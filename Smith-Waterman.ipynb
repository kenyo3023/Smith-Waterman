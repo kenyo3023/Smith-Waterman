{
 "cells": [
  {
   "cell_type": "code",
   "execution_count": 1,
   "metadata": {},
   "outputs": [],
   "source": [
    "import numpy as np"
   ]
  },
  {
   "cell_type": "code",
   "execution_count": 2,
   "metadata": {},
   "outputs": [],
   "source": [
    "def print_result(seq1, seq2, score_matrix):\n",
    "    print(\"score_matrix: \")\n",
    "    print(score_matrix)\n",
    "    print()\n",
    "    print(\"aligned seqeunce 1: \", seq1)\n",
    "    print(\"aligned seqeunce 2: \", seq2)\n",
    "\n",
    "def matching(x, y, match_award, mismatch_penalty):\n",
    "    if x == y:\n",
    "        return match_award\n",
    "    else:\n",
    "        return mismatch_penalty\n",
    "\n",
    "def water(seq1, seq2, match_award=3, mismatch_penalty=-3, gap_penalty=0):\n",
    "    len_seq1 = len(seq1)\n",
    "    len_seq2 = len(seq2)\n",
    "    score_matrix = np.zeros((len_seq1+1, len_seq2+1))\n",
    "    pointer_matrix = np.zeros((len_seq1+1, len_seq2+1))\n",
    "    \n",
    "    max_score = 0\n",
    "    \n",
    "    for i in range(1, len_seq1+1):\n",
    "        for j in range(1, len_seq2+1):\n",
    "            score_diag = score_matrix[i-1][j-1] + matching(seq1[i-1], seq2[j-1], match_award, mismatch_penalty)\n",
    "            score_up   = score_matrix[i][j-1] + gap_penalty\n",
    "            score_left = score_matrix[i-1][j] + gap_penalty\n",
    "            score_matrix[i][j] = max(0, score_diag, score_up, score_left)\n",
    "            if score_matrix[i][j] == 0:\n",
    "                pointer_matrix[i][j] = 0\n",
    "            if score_matrix[i][j] == score_diag:\n",
    "                pointer_matrix[i][j] = 1\n",
    "            if score_matrix[i][j] == score_up:\n",
    "                pointer_matrix[i][j] = 2\n",
    "            if score_matrix[i][j] == score_left:\n",
    "                pointer_matrix[i][j] = 3\n",
    "            if score_matrix[i][j] >= max_score:\n",
    "                max_i = i\n",
    "                max_j = j\n",
    "                max_score = score_matrix[i][j]\n",
    "    align1 = []\n",
    "    align2 = []\n",
    "    i = max_i\n",
    "    j = max_j\n",
    "    del max_i, max_j\n",
    "    \n",
    "    while pointer_matrix[i][j] != 0:\n",
    "        if pointer_matrix[i][j] == 1:\n",
    "            align1.append(seq1[i-1])\n",
    "            align2.append(seq2[j-1])\n",
    "            i -= 1\n",
    "            j -= 1\n",
    "        elif pointer_matrix[i][j] == 2:\n",
    "            align1.append(None)\n",
    "            align2.append(seq2[j-1])\n",
    "            j -= 1\n",
    "        elif pointer_matrix[i][j] == 3:\n",
    "            align1.append(seq1[i-1])\n",
    "            align2.append(None)\n",
    "            i -= 1\n",
    "            \n",
    "    align1.reverse()\n",
    "    align2.reverse()\n",
    "    return align1, align2, score_matrix"
   ]
  },
  {
   "cell_type": "code",
   "execution_count": 3,
   "metadata": {},
   "outputs": [
    {
     "name": "stdout",
     "output_type": "stream",
     "text": [
      "score_matrix: \n",
      "[[ 0.  0.  0.  0.  0.  0.  0.  0.  0.  0.]\n",
      " [ 0.  0.  0.  3.  3.  3.  3.  3.  3.  3.]\n",
      " [ 0.  3.  3.  3.  3.  6.  6.  6.  6.  6.]\n",
      " [ 0.  3.  3.  6.  6.  6.  6.  6.  9.  9.]\n",
      " [ 0.  3.  3.  6.  9.  9.  9.  9.  9.  9.]\n",
      " [ 0.  3.  3.  6.  9.  9. 12. 12. 12. 12.]\n",
      " [ 0.  3.  3.  6.  9.  9. 12. 15. 15. 15.]\n",
      " [ 0.  3.  6.  6.  9. 12. 12. 15. 15. 15.]\n",
      " [ 0.  3.  6.  6.  9. 12. 12. 15. 15. 15.]]\n",
      "\n",
      "aligned seqeunce 1:  ['G', None, 'T', 'T', None, 'A', 'C', None, None, 'G', 'G']\n",
      "aligned seqeunce 2:  ['G', 'G', 'T', 'T', 'G', 'A', 'C', 'T', 'A', None, None]\n"
     ]
    }
   ],
   "source": [
    "l1 = \"TGTTACGG\"\n",
    "l2 = \"GGTTGACTA\"\n",
    "match_award=3\n",
    "mismatch_penalty=-3\n",
    "gap_penalty=0\n",
    "\n",
    "res1, res2, score_matrix = water(l1,l2, match_award, mismatch_penalty, gap_penalty)\n",
    "print_result(res1, res2, score_matrix)"
   ]
  },
  {
   "cell_type": "code",
   "execution_count": 4,
   "metadata": {},
   "outputs": [
    {
     "name": "stdout",
     "output_type": "stream",
     "text": [
      "score_matrix: \n",
      "[[ 0.  0.  0.  0.  0.  0.  0.  0.  0.]\n",
      " [ 0.  3.  3.  3.  3.  3.  3.  3.  3.]\n",
      " [ 0.  3.  6.  6.  6.  6.  6.  6.  6.]\n",
      " [ 0.  3.  6.  9.  9.  9.  9.  9.  9.]\n",
      " [ 0.  3.  6.  9.  9. 12. 12. 12. 12.]\n",
      " [ 0.  3.  6.  9.  9. 12. 12. 15. 15.]\n",
      " [ 0.  3.  6.  9.  9. 12. 12. 15. 18.]\n",
      " [ 0.  3.  6.  9.  9. 12. 12. 15. 18.]]\n",
      "\n",
      "aligned seqeunce 1:  ['1', '2', '3', None, '5', None, '7', '8', '9']\n",
      "aligned seqeunce 2:  ['1', '2', '3', '4', '5', '6', '7', '8', None]\n"
     ]
    }
   ],
   "source": [
    "l1 = \"1235789\"\n",
    "l2 = \"12345678\"\n",
    "match_award=3\n",
    "mismatch_penalty=-3\n",
    "gap_penalty=0\n",
    "\n",
    "res1, res2, score_matrix = water(l1,l2, match_award, mismatch_penalty, gap_penalty)\n",
    "print_result(res1, res2, score_matrix)"
   ]
  },
  {
   "cell_type": "code",
   "execution_count": null,
   "metadata": {},
   "outputs": [],
   "source": []
  }
 ],
 "metadata": {
  "kernelspec": {
   "display_name": "Python 3",
   "language": "python",
   "name": "python3"
  },
  "language_info": {
   "codemirror_mode": {
    "name": "ipython",
    "version": 3
   },
   "file_extension": ".py",
   "mimetype": "text/x-python",
   "name": "python",
   "nbconvert_exporter": "python",
   "pygments_lexer": "ipython3",
   "version": "3.8.3"
  },
  "nbTranslate": {
   "displayLangs": [
    "*"
   ],
   "hotkey": "alt-t",
   "langInMainMenu": true,
   "sourceLang": "en",
   "targetLang": "fr",
   "useGoogleTranslate": true
  },
  "toc": {
   "base_numbering": 1,
   "nav_menu": {},
   "number_sections": true,
   "sideBar": true,
   "skip_h1_title": false,
   "title_cell": "Table of Contents",
   "title_sidebar": "Contents",
   "toc_cell": false,
   "toc_position": {},
   "toc_section_display": true,
   "toc_window_display": false
  },
  "varInspector": {
   "cols": {
    "lenName": 16,
    "lenType": 16,
    "lenVar": 40
   },
   "kernels_config": {
    "python": {
     "delete_cmd_postfix": "",
     "delete_cmd_prefix": "del ",
     "library": "var_list.py",
     "varRefreshCmd": "print(var_dic_list())"
    },
    "r": {
     "delete_cmd_postfix": ") ",
     "delete_cmd_prefix": "rm(",
     "library": "var_list.r",
     "varRefreshCmd": "cat(var_dic_list()) "
    }
   },
   "types_to_exclude": [
    "module",
    "function",
    "builtin_function_or_method",
    "instance",
    "_Feature"
   ],
   "window_display": false
  }
 },
 "nbformat": 4,
 "nbformat_minor": 4
}
