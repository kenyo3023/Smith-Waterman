{
 "cells": [
  {
   "cell_type": "code",
   "execution_count": 1,
   "metadata": {},
   "outputs": [],
   "source": [
    "from smith_waterman import water, print_result"
   ]
  },
  {
   "cell_type": "code",
   "execution_count": 2,
   "metadata": {},
   "outputs": [
    {
     "name": "stdout",
     "output_type": "stream",
     "text": [
      "score_matrix: \n",
      "[[ 0.  0.  0.  0.  0.  0.  0.  0.  0.  0.]\n",
      " [ 0.  0.  0.  3.  3.  3.  3.  3.  3.  3.]\n",
      " [ 0.  3.  3.  3.  3.  6.  6.  6.  6.  6.]\n",
      " [ 0.  3.  3.  6.  6.  6.  6.  6.  9.  9.]\n",
      " [ 0.  3.  3.  6.  9.  9.  9.  9.  9.  9.]\n",
      " [ 0.  3.  3.  6.  9.  9. 12. 12. 12. 12.]\n",
      " [ 0.  3.  3.  6.  9.  9. 12. 15. 15. 15.]\n",
      " [ 0.  3.  6.  6.  9. 12. 12. 15. 15. 15.]\n",
      " [ 0.  3.  6.  6.  9. 12. 12. 15. 15. 15.]]\n",
      "\n",
      "aligned seqeunce 1:  ['G', None, 'T', 'T', None, 'A', 'C', None, None, 'G', 'G']\n",
      "aligned seqeunce 2:  ['G', 'G', 'T', 'T', 'G', 'A', 'C', 'T', 'A', None, None]\n"
     ]
    }
   ],
   "source": [
    "l1 = \"TGTTACGG\"\n",
    "l2 = \"GGTTGACTA\"\n",
    "match_award=3\n",
    "mismatch_penalty=-3\n",
    "gap_penalty=0\n",
    "\n",
    "res1, res2, score_matrix = water(l1,l2, match_award, mismatch_penalty, gap_penalty)\n",
    "print_result(res1, res2, score_matrix)"
   ]
  },
  {
   "cell_type": "code",
   "execution_count": 3,
   "metadata": {},
   "outputs": [
    {
     "name": "stdout",
     "output_type": "stream",
     "text": [
      "score_matrix: \n",
      "[[ 0.  0.  0.  0.  0.  0.  0.  0.  0.]\n",
      " [ 0.  3.  3.  3.  3.  3.  3.  3.  3.]\n",
      " [ 0.  3.  6.  6.  6.  6.  6.  6.  6.]\n",
      " [ 0.  3.  6.  9.  9.  9.  9.  9.  9.]\n",
      " [ 0.  3.  6.  9.  9. 12. 12. 12. 12.]\n",
      " [ 0.  3.  6.  9.  9. 12. 12. 15. 15.]\n",
      " [ 0.  3.  6.  9.  9. 12. 12. 15. 18.]\n",
      " [ 0.  3.  6.  9.  9. 12. 12. 15. 18.]]\n",
      "\n",
      "aligned seqeunce 1:  ['1', '2', '3', None, '5', None, '7', '8', '9']\n",
      "aligned seqeunce 2:  ['1', '2', '3', '4', '5', '6', '7', '8', None]\n"
     ]
    }
   ],
   "source": [
    "l1 = \"1235789\"\n",
    "l2 = \"12345678\"\n",
    "match_award=3\n",
    "mismatch_penalty=-3\n",
    "gap_penalty=0\n",
    "\n",
    "res1, res2, score_matrix = water(l1,l2, match_award, mismatch_penalty, gap_penalty)\n",
    "print_result(res1, res2, score_matrix)"
   ]
  },
  {
   "cell_type": "code",
   "execution_count": null,
   "metadata": {},
   "outputs": [],
   "source": []
  }
 ],
 "metadata": {
  "kernelspec": {
   "display_name": "Python 3.8.10 64-bit",
   "language": "python",
   "name": "python3"
  },
  "language_info": {
   "codemirror_mode": {
    "name": "ipython",
    "version": 3
   },
   "file_extension": ".py",
   "mimetype": "text/x-python",
   "name": "python",
   "nbconvert_exporter": "python",
   "pygments_lexer": "ipython3",
   "version": "3.8.10"
  },
  "nbTranslate": {
   "displayLangs": [
    "*"
   ],
   "hotkey": "alt-t",
   "langInMainMenu": true,
   "sourceLang": "en",
   "targetLang": "fr",
   "useGoogleTranslate": true
  },
  "toc": {
   "base_numbering": 1,
   "nav_menu": {},
   "number_sections": true,
   "sideBar": true,
   "skip_h1_title": false,
   "title_cell": "Table of Contents",
   "title_sidebar": "Contents",
   "toc_cell": false,
   "toc_position": {},
   "toc_section_display": true,
   "toc_window_display": false
  },
  "varInspector": {
   "cols": {
    "lenName": 16,
    "lenType": 16,
    "lenVar": 40
   },
   "kernels_config": {
    "python": {
     "delete_cmd_postfix": "",
     "delete_cmd_prefix": "del ",
     "library": "var_list.py",
     "varRefreshCmd": "print(var_dic_list())"
    },
    "r": {
     "delete_cmd_postfix": ") ",
     "delete_cmd_prefix": "rm(",
     "library": "var_list.r",
     "varRefreshCmd": "cat(var_dic_list()) "
    }
   },
   "types_to_exclude": [
    "module",
    "function",
    "builtin_function_or_method",
    "instance",
    "_Feature"
   ],
   "window_display": false
  },
  "vscode": {
   "interpreter": {
    "hash": "916dbcbb3f70747c44a77c7bcd40155683ae19c65e1c03b4aa3499c5328201f1"
   }
  }
 },
 "nbformat": 4,
 "nbformat_minor": 4
}
